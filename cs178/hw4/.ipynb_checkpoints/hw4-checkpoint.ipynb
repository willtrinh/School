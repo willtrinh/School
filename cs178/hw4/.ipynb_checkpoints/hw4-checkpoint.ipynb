{
 "cells": [
  {
   "cell_type": "code",
   "execution_count": 1,
   "metadata": {},
   "outputs": [],
   "source": [
    "import numpy as np\n",
    "import matplotlib.pyplot as plt\n",
    "from scipy import linalg\n",
    "from sklearn.preprocessing import StandardScaler\n",
    "%matplotlib inline\n",
    "FIG_SIZE = (10, 5)"
   ]
  },
  {
   "cell_type": "markdown",
   "metadata": {},
   "source": [
    "## Problem 1: Decision Trees for Spam Classification (30 points)"
   ]
  },
  {
   "cell_type": "code",
   "execution_count": 2,
   "metadata": {},
   "outputs": [],
   "source": [
    "data = np.array([[0,0,1,1,0, -1],\n",
    "            [1,1,0,1,0, -1],\n",
    "            [0,1,1,1,1, -1],\n",
    "            [1,1,1,1,0, -1],\n",
    "            [0,1,0,0,0, -1],\n",
    "            [1,0,1,1,1, 1],\n",
    "            [0,0,1,0,0, 1],\n",
    "            [1,0,0,0,0, 1],\n",
    "            [1,0,1,1,0, 1],\n",
    "            [1,1,1,1,1, -1] ]);\n",
    "X = data[:, :-1]\n",
    "y = data[:, -1]"
   ]
  },
  {
   "cell_type": "markdown",
   "metadata": {},
   "source": [
    "### 1.1 Calculate the entropy H( y) of the binary class variable y. (5 points)"
   ]
  },
  {
   "cell_type": "code",
   "execution_count": 7,
   "metadata": {},
   "outputs": [
    {
     "name": "stdout",
     "output_type": "stream",
     "text": [
      "H(y) = 0.9709505944546686 bits\n"
     ]
    }
   ],
   "source": [
    "def entropy(y):\n",
    "    p = np.mean(y > 0) # Compute the probability of y = 1\n",
    "    if p == 0 or p == 1: # If the probability of either class is 1 H(y) = 0\n",
    "        return 0\n",
    "    else:\n",
    "        Hy = -(p * np.log2(p) + (1-p) * np.log2(1-p))\n",
    "        return  Hy # equation for H(y) in terms of p\n",
    "print(\"H(y) = {} bits\".format(entropy(y)))"
   ]
  },
  {
   "cell_type": "markdown",
   "metadata": {},
   "source": [
    "### 1.2 Calculate the information gain for each feature. Which feature should I split on for the root node of the decision tree? (10 points)"
   ]
  },
  {
   "cell_type": "code",
   "execution_count": 11,
   "metadata": {},
   "outputs": [
    {
     "name": "stdout",
     "output_type": "stream",
     "text": [
      "[0.0464393446710154, 0.6099865470109874, 0.0058021490143456145, 0.09127744624168, 0.0058021490143456145]\n"
     ]
    }
   ],
   "source": [
    "def info_gain(x, y):\n",
    "    ig = [0.0] * 5 # Setup an output list\n",
    "    ent = entropy(y) # Compute the original entropy\n",
    "    \n",
    "    for i in range(5):\n",
    "        x_i = x[:,i] # Select the i-th feature of each observation\n",
    "        p_x_i = np.mean(x_i) # Compute the probability that feature i == 1\n",
    "        if p_x_i == 0 or p_x_i == 1:\n",
    "            continue\n",
    "        # Compute the conditional entropy H(Y|X)\n",
    "        cond_ent = p_x_i * entropy(y[x_i == 1]) + (1 - p_x_i) * entropy(y[x_i == 0])\n",
    "        ig[i] = ent - cond_ent # Store the information gain\n",
    "    return ig\n",
    "\n",
    "print(info_gain(X, y))"
   ]
  },
  {
   "cell_type": "markdown",
   "metadata": {},
   "source": [
    "From the information gain above, we should split on second feature as it has the highest information gain."
   ]
  },
  {
   "cell_type": "markdown",
   "metadata": {},
   "source": [
    "### 1.3 Determine the complete decision tree that will be learned from these data. (15 points)"
   ]
  },
  {
   "cell_type": "code",
   "execution_count": 18,
   "metadata": {},
   "outputs": [
    {
     "name": "stdout",
     "output_type": "stream",
     "text": [
      "Splitting on feature 2:\n",
      "Left data:\n",
      "[[ 0  0  1  1  0 -1]\n",
      " [ 1  0  1  1  1  1]\n",
      " [ 0  0  1  0  0  1]\n",
      " [ 1  0  0  0  0  1]\n",
      " [ 1  0  1  1  0  1]]\n",
      "Right data:\n",
      "[[ 1  1  0  1  0 -1]\n",
      " [ 0  1  1  1  1 -1]\n",
      " [ 1  1  1  1  0 -1]\n",
      " [ 0  1  0  0  0 -1]\n",
      " [ 1  1  1  1  1 -1]]\n"
     ]
    }
   ],
   "source": [
    "# Split on feature ...:\n",
    "print(\"Splitting on feature 2:\")\n",
    "print(\"Left data:\") # data where feature 2 is 0\n",
    "print(data[X[:,1] == 0,:])\n",
    "print(\"Right data:\") # data where feature 2 is 1\n",
    "print(data[X[:,1] == 1,:])"
   ]
  },
  {
   "cell_type": "markdown",
   "metadata": {},
   "source": [
    "On the right data, we always predict \"-1\". On the left data, we'll need to split again."
   ]
  },
  {
   "cell_type": "code",
   "execution_count": 20,
   "metadata": {},
   "outputs": [
    {
     "name": "stdout",
     "output_type": "stream",
     "text": [
      "[0.3219280948873623, 0.0, 0.07290559532005603, 0.17095059445466865, 0.07290559532005603]\n"
     ]
    }
   ],
   "source": [
    "data_left = data[X[:, 1] == 0, :]\n",
    "X_left, y_left = data_left[:, :-1], data_left[:, -1]\n",
    "print(info_gain(X_left, y_left))"
   ]
  },
  {
   "cell_type": "code",
   "execution_count": 22,
   "metadata": {},
   "outputs": [
    {
     "name": "stdout",
     "output_type": "stream",
     "text": [
      "Splitting left data on feature 1:\n",
      "Left data:\n",
      "[[ 0  0  1  1  0 -1]\n",
      " [ 0  0  1  0  0  1]]\n",
      "Right data:\n",
      "[[1 0 1 1 1 1]\n",
      " [1 0 0 0 0 1]\n",
      " [1 0 1 1 0 1]]\n"
     ]
    }
   ],
   "source": [
    "print(\"Splitting left data on feature 1:\")\n",
    "print(\"Left data:\") # data_left where feature 1 is 0\n",
    "print(data_left[X_left[:,0] == 0, :])\n",
    "print(\"Right data:\") # data_left where feature 1 is 1\n",
    "print(data_left[X_left[:,0] == 1, :])"
   ]
  },
  {
   "cell_type": "markdown",
   "metadata": {},
   "source": [
    "On the right data, we always predict \"+1\". On the left data, the only feature that gives useful information is feature 4.\n",
    "\n",
    "So the final rule is:"
   ]
  },
  {
   "cell_type": "code",
   "execution_count": 23,
   "metadata": {},
   "outputs": [],
   "source": [
    "# if is long?:\n",
    "#     discard\n",
    "# else:\n",
    "#     if known author?:\n",
    "#         read\n",
    "#     else:\n",
    "#         if has 'grade':\n",
    "#             discard\n",
    "#         else:\n",
    "#             read"
   ]
  },
  {
   "cell_type": "markdown",
   "metadata": {},
   "source": [
    "## Problem 2: EigenFaces (65 points)"
   ]
  },
  {
   "cell_type": "markdown",
   "metadata": {},
   "source": [
    "### 2.1 (5 points)"
   ]
  },
  {
   "cell_type": "code",
   "execution_count": 31,
   "metadata": {},
   "outputs": [
    {
     "data": {
      "text/plain": [
       "<matplotlib.image.AxesImage at 0x22bc85deb00>"
      ]
     },
     "execution_count": 31,
     "metadata": {},
     "output_type": "execute_result"
    },
    {
     "data": {
      "image/png": "[encoded data removed]",
      "text/plain": [
       "<Figure size 432x288 with 1 Axes>"
      ]
     },
     "metadata": {
      "needs_background": "light"
     },
     "output_type": "display_data"
    }
   ],
   "source": [
    "# Load face dataset\n",
    "X = np.genfromtxt(\"data/faces.txt\",delimiter=None)\n",
    "\n",
    "# Remove the mean\n",
    "mu = np.mean(X, axis = 0) #find mean face\n",
    "X0 = X - mu #subtract mean face\n",
    "\n",
    "# Plot the mean face\n",
    "plt.figure()\n",
    "mean_face = np.reshape(mu, (24,24))\n",
    "plt.imshow(mean_face.T, cmap=\"gray\")"
   ]
  },
  {
   "cell_type": "markdown",
   "metadata": {},
   "source": [
    "### 2.2 (10 points)"
   ]
  },
  {
   "cell_type": "code",
   "execution_count": 40,
   "metadata": {},
   "outputs": [
    {
     "name": "stdout",
     "output_type": "stream",
     "text": [
      "W's Shape: (4916, 576)\n",
      "Vh's Shape:  (576, 576)\n"
     ]
    }
   ],
   "source": [
    "from scipy import linalg as la\n",
    "\n",
    "U, S, V = la.svd(X0, full_matrices = False)\n",
    "W = U.dot(np.diag(S))\n",
    "print(\"W's Shape:\", W.shape)\n",
    "print(\"Vh's Shape: \", V.shape)"
   ]
  },
  {
   "cell_type": "markdown",
   "metadata": {},
   "source": [
    "### 2.3 (10 points)"
   ]
  },
  {
   "cell_type": "code",
   "execution_count": 44,
   "metadata": {},
   "outputs": [
    {
     "data": {
      "text/plain": [
       "(0, 10, 0, 3000)"
      ]
     },
     "execution_count": 44,
     "metadata": {},
     "output_type": "execute_result"
    },
    {
     "data": {
      "image/png": "[encoded data removed]",
      "text/plain": [
       "<Figure size 432x288 with 1 Axes>"
      ]
     },
     "metadata": {
      "needs_background": "light"
     },
     "output_type": "display_data"
    }
   ],
   "source": [
    "errors = []\n",
    "\n",
    "for K in range(11):\n",
    "    X0_hat = np.dot(W[:,:K], V[:K,:])\n",
    "    errors.append(np.mean((X0 - X0_hat) ** 2)) #mse between X0 and X0_hat\n",
    "    \n",
    "plt.plot(range(11),errors,'r-',linewidth=4)\n",
    "plt.axis((0,10,0,3000))"
   ]
  },
  {
   "cell_type": "markdown",
   "metadata": {},
   "source": [
    "### 2.4 (15 points)"
   ]
  },
  {
   "cell_type": "code",
   "execution_count": 66,
   "metadata": {},
   "outputs": [
    {
     "data": {
      "text/plain": [
       "<Figure size 432x288 with 0 Axes>"
      ]
     },
     "metadata": {},
     "output_type": "display_data"
    },
    {
     "data": {
      "image/png": "[encoded data removed]",
      "text/plain": [
       "<Figure size 432x288 with 2 Axes>"
      ]
     },
     "metadata": {
      "needs_background": "light"
     },
     "output_type": "display_data"
    },
    {
     "data": {
      "text/plain": [
       "<Figure size 432x288 with 0 Axes>"
      ]
     },
     "metadata": {},
     "output_type": "display_data"
    },
    {
     "data": {
      "image/png": "[encoded data removed]",
      "text/plain": [
       "<Figure size 432x288 with 2 Axes>"
      ]
     },
     "metadata": {
      "needs_background": "light"
     },
     "output_type": "display_data"
    },
    {
     "data": {
      "text/plain": [
       "<Figure size 432x288 with 0 Axes>"
      ]
     },
     "metadata": {},
     "output_type": "display_data"
    },
    {
     "data": {
      "image/png": "[encoded data removed]",
      "text/plain": [
       "<Figure size 432x288 with 2 Axes>"
      ]
     },
     "metadata": {
      "needs_background": "light"
     },
     "output_type": "display_data"
    }
   ],
   "source": [
    "for k in range(3):\n",
    "    alpha = 2*np.median(np.abs( W[:,k])) #scaler\n",
    "    im1 = mu + alpha * V[k,:] #add PC to the mean\n",
    "    im2 = mu - alpha * V[k,:] #subtract PC to the mean\n",
    "\n",
    "    img1 = np.reshape(im1,(24,24))\n",
    "    img2 = np.reshape(im2,(24,24))\n",
    "    \n",
    "    plt.figure()\n",
    "    f,(ax1,ax2) = plt.subplots(1,2)\n",
    "    ax1.imshow(img1.T, cmap=\"gray\")\n",
    "    ax2.imshow(img2.T, cmap=\"gray\")"
   ]
  },
  {
   "cell_type": "markdown",
   "metadata": {},
   "source": [
    "### 2.5 (10 points)"
   ]
  },
  {
   "cell_type": "code",
   "execution_count": 123,
   "metadata": {},
   "outputs": [
    {
     "data": {
      "text/plain": [
       "<Figure size 432x288 with 0 Axes>"
      ]
     },
     "metadata": {},
     "output_type": "display_data"
    },
    {
     "data": {
      "image/png": "[encoded data removed]",
      "text/plain": [
       "<Figure size 432x288 with 5 Axes>"
      ]
     },
     "metadata": {
      "needs_background": "light"
     },
     "output_type": "display_data"
    },
    {
     "data": {
      "text/plain": [
       "<Figure size 432x288 with 0 Axes>"
      ]
     },
     "metadata": {},
     "output_type": "display_data"
    },
    {
     "data": {
      "image/png": "[encoded data removed]",
      "text/plain": [
       "<Figure size 432x288 with 5 Axes>"
      ]
     },
     "metadata": {
      "needs_background": "light"
     },
     "output_type": "display_data"
    }
   ],
   "source": [
    "# Reconstruct two faces using a few components\n",
    "for i in [24,35]:\n",
    "    im = X[i,:]\n",
    "    im = np.reshape(im, (24,24))\n",
    "    plt.figure()\n",
    "    f,ax = plt.subplots(1,5)\n",
    "    ax[0].imshow(im.T, cmap=\"gray\") #show original image\n",
    "    \n",
    "    for j,k in enumerate([5,10,50,100]):\n",
    "        X0_hat = W[:,:k].dot(V[:k,:])\n",
    "        im = X0_hat[i,:] #reconstruct using k principal components\n",
    "        img = np.reshape(im,(24,24)) #reshape im to 24x24\n",
    "        ax[j+1].imshow(img.T, cmap=\"gray\")"
   ]
  },
  {
   "cell_type": "markdown",
   "metadata": {},
   "source": [
    "### 2.6 (15 points)"
   ]
  },
  {
   "cell_type": "code",
   "execution_count": 142,
   "metadata": {},
   "outputs": [
    {
     "data": {
      "image/png": "[encoded data removed]",
      "text/plain": [
       "<Figure size 720x720 with 1 Axes>"
      ]
     },
     "metadata": {
      "needs_background": "light"
     },
     "output_type": "display_data"
    }
   ],
   "source": [
    "idx = np.random.choice(X.shape[0], size = 25)# sample 25 images without replacement using np.random.choice\n",
    "coord = StandardScaler().fit_transform(W[:, :2])\n",
    "plt.figure(figsize = (10, 10))\n",
    "for i in idx:\n",
    "    loc = (coord[i,0], coord[i,0] + 0.5, coord[i,1], coord[i,1] + 0.5) # compute where to place image (scaled W values) & size\n",
    "    img = np.reshape(X[i,:], (24,24)) # reshape to square\n",
    "    plt.imshow( img.T , cmap=\"gray\", extent=loc ) # draw each image\n",
    "    plt.axis( (-3,3,-3,3) ) # set axis to a reasonable scale"
   ]
  },
  {
   "cell_type": "markdown",
   "metadata": {},
   "source": [
    "## Problem 3: Statement of Collaboration (5 points)"
   ]
  },
  {
   "cell_type": "markdown",
   "metadata": {},
   "source": [
    "The homework was done individually and without any discussion. However, I was able to get help to most of the problems I was facing through browsing Piazza as many questions I had were answered on the forum. I also received help from going to the discussion section as well as the discussion slides and lecture notes to get me started on the homework problems."
   ]
  },
  {
   "cell_type": "code",
   "execution_count": null,
   "metadata": {},
   "outputs": [],
   "source": []
  }
 ],
 "metadata": {
  "kernelspec": {
   "display_name": "Python 3",
   "language": "python",
   "name": "python3"
  },
  "language_info": {
   "codemirror_mode": {
    "name": "ipython",
    "version": 3
   },
   "file_extension": ".py",
   "mimetype": "text/x-python",
   "name": "python",
   "nbconvert_exporter": "python",
   "pygments_lexer": "ipython3",
   "version": "3.7.1"
  }
 },
 "nbformat": 4,
 "nbformat_minor": 2
}
